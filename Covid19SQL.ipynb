{
 "cells": [
  {
   "cell_type": "code",
   "execution_count": 6,
   "id": "79e54975-4902-412d-8ac4-fbae17b04395",
   "metadata": {},
   "outputs": [
    {
     "name": "stdout",
     "output_type": "stream",
     "text": [
      "Defaulting to user installation because normal site-packages is not writeable\n",
      "Looking in links: /usr/share/pip-wheels\n",
      "Collecting mysql-connector-python\n",
      "  Obtaining dependency information for mysql-connector-python from https://files.pythonhosted.org/packages/c9/6a/df8325eb997944357f5f24e55900f24c4f82ab980ac7f0b013ef87c996e7/mysql_connector_python-8.2.0-cp311-cp311-manylinux_2_17_x86_64.whl.metadata\n",
      "  Downloading mysql_connector_python-8.2.0-cp311-cp311-manylinux_2_17_x86_64.whl.metadata (2.1 kB)\n",
      "Collecting protobuf<=4.21.12,>=4.21.1 (from mysql-connector-python)\n",
      "  Downloading protobuf-4.21.12-cp37-abi3-manylinux2014_x86_64.whl (409 kB)\n",
      "\u001b[2K     \u001b[38;5;70m━━━━━━━━━━━━━━━━━━━━━━━━━━━━━━━━━━━━━━━\u001b[0m \u001b[32m409.8/409.8 kB\u001b[0m \u001b[31m8.0 MB/s\u001b[0m eta \u001b[36m0:00:00\u001b[0m\u001b[36m0:00:01\u001b[0m\n",
      "\u001b[?25hDownloading mysql_connector_python-8.2.0-cp311-cp311-manylinux_2_17_x86_64.whl (31.6 MB)\n",
      "\u001b[2K   \u001b[38;5;70m━━━━━━━━━━━━━━━━━━━━━━━━━━━━━━━━━━━━━━━━\u001b[0m \u001b[32m31.6/31.6 MB\u001b[0m \u001b[31m16.9 MB/s\u001b[0m eta \u001b[36m0:00:00\u001b[0m \u001b[36m0:00:01\u001b[0m[36m0:00:01\u001b[0m\n",
      "\u001b[?25hInstalling collected packages: protobuf, mysql-connector-python\n",
      "Successfully installed mysql-connector-python-8.2.0 protobuf-4.21.12\n"
     ]
    }
   ],
   "source": [
    "! pip install mysql-connector-python\n"
   ]
  },
  {
   "cell_type": "code",
   "execution_count": 14,
   "id": "b665d533-d36d-4bb4-bc3f-2d52db71293d",
   "metadata": {},
   "outputs": [],
   "source": [
    "import os\n",
    "import pandas as pd"
   ]
  },
  {
   "cell_type": "code",
   "execution_count": 16,
   "id": "c5659a8d-4aa4-4949-9050-0f9ae3ea90d5",
   "metadata": {},
   "outputs": [
    {
     "ename": "SyntaxError",
     "evalue": "invalid decimal literal (430390390.py, line 4)",
     "output_type": "error",
     "traceback": [
      "\u001b[0;36m  Cell \u001b[0;32mIn[16], line 4\u001b[0;36m\u001b[0m\n\u001b[0;31m    FROM `covid19-395522.covid19_data.CovidDeaths`\u001b[0m\n\u001b[0m                        ^\u001b[0m\n\u001b[0;31mSyntaxError\u001b[0m\u001b[0;31m:\u001b[0m invalid decimal literal\n"
     ]
    }
   ],
   "source": [
    "df = pd.read_sql_query\n",
    "\n",
    "SELECT *\n",
    "FROM `covid19-395522.covid19_data.CovidDeaths`\n",
    "WHERE continent is not null\n",
    "ORDER BY 2,3\n",
    "\n",
    "-- Select data that we are going to be using\n",
    "\n",
    "SELECT location, date, total_cases, new_cases, total_deaths, population\n",
    "FROM `covid19-395522.covid19_data.CovidDeaths`\n",
    "Order BY 1,2\n",
    "\n",
    "-- Looking at total cases vs Tota Deaths\n",
    "\n",
    "SELECT location, MAX(total_cases) as HighestInfectionCount,MAX(total_cases/population)*100 as PercentagePopulationInfected\n",
    "FROM `covid19-395522.covid19_data.CovidDeaths`\n",
    "GROUP BY location, population\n",
    "Order BY PercentagePopulationInfected DESC\n",
    "\n",
    "-- Showing Countries with highest Death Count per Population\n",
    "\n",
    "SELECT location,MAX(cast(total_deaths as int)) as TotalDeathCount\n",
    "FROM `covid19-395522.covid19_data.CovidDeaths`\n",
    "WHERE continent is not null\n",
    "GROUP BY location\n",
    "Order BY TotalDeathCount DESC\n",
    "\n",
    "-- Let's break things down by continent\n",
    "\n",
    "SELECT continent,MAX(cast(total_deaths as int)) as TotalDeathCount\n",
    "FROM `covid19-395522.covid19_data.CovidDeaths`\n",
    "WHERE continent is not null\n",
    "GROUP BY continent\n",
    "Order BY TotalDeathCount DESC\n",
    "\n",
    "-- GLOBAL NUMBERS\n",
    "\n",
    "\n",
    "SELECT SUM(new_cases) as total_cases, SUM(cast(new_deaths as int)) as total_deaths,SUM(cast(new_deaths as int))/SUM(new_cases)*100 as DeathPercentage\n",
    "FROM `covid19-395522.covid19_data.CovidDeaths`\n",
    "WHERE continent is not null\n",
    "--GROUP BY date\n",
    "Order BY 1,2\n",
    "\n",
    "-- testing my own subquery\n",
    "\n",
    "/* SELECT total_cases,total_deaths, (total_deaths/total_cases)*100 as DeathPercentage;\n",
    "  SELECT SUM(new_cases) as total_cases, SUM(cast(new_deaths as int)) as total_deaths\n",
    "FROM `covid19-395522.covid19_data.CovidDeaths`\n",
    "WHERE continent is not null\n",
    "--GROUP BY date\n",
    "Order BY 1,2 */\n",
    "\n",
    "SELECT dea.continent, dea.location,dea.population,vac.new_vaccinations\n",
    "FROM `covid19-395522.covid19_data.CovidDeaths` dea\n",
    "JOIN `covid19-395522.covid19_data.CovidVaccinations` vac\n",
    "  ON dea.location = vac.location\n",
    "  and dea.date = vac.date\n",
    "WHERE dea.continent is not null\n"
   ]
  },
  {
   "cell_type": "code",
   "execution_count": null,
   "id": "177b12ed-8feb-4724-88d3-eae958304947",
   "metadata": {},
   "outputs": [],
   "source": []
  }
 ],
 "metadata": {
  "kernelspec": {
   "display_name": "anaconda-panel-2023.05-py310",
   "language": "python",
   "name": "conda-env-anaconda-panel-2023.05-py310-py"
  },
  "language_info": {
   "codemirror_mode": {
    "name": "ipython",
    "version": 3
   },
   "file_extension": ".py",
   "mimetype": "text/x-python",
   "name": "python",
   "nbconvert_exporter": "python",
   "pygments_lexer": "ipython3",
   "version": "3.11.5"
  }
 },
 "nbformat": 4,
 "nbformat_minor": 5
}
